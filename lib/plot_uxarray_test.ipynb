{
 "cells": [
  {
   "cell_type": "markdown",
   "id": "39545902-0870-4a3f-93f1-493e56403d38",
   "metadata": {},
   "source": [
    "### test for using the _plot_unstructured_map_and_save_ function"
   ]
  },
  {
   "cell_type": "code",
   "execution_count": 1,
   "id": "b75e38a9-54ff-438b-91cd-2f72ef3abd95",
   "metadata": {},
   "outputs": [],
   "source": [
    "import os, sys\n",
    "import shutil\n",
    "import warnings\n",
    "warnings.filterwarnings('ignore')\n",
    "\n",
    "import numpy as np\n",
    "import xarray as xr\n",
    "import xesmf as xe\n",
    "\n",
    "# Helpful for plotting only\n",
    "import matplotlib\n",
    "import matplotlib.pyplot as plt\n",
    "import matplotlib.dates as mdates\n",
    "import cartopy\n",
    "import cartopy.crs as ccrs\n",
    "import cartopy.feature as cfeature\n",
    "import uxarray as ux  #need npl 2024a or later\n",
    "import geoviews.feature as gf\n",
    "\n",
    "#sys.path.append('/glade/u/home/wwieder/python/adf/lib/plotting_functions.py')\n",
    "from plotting_functions import *"
   ]
  },
  {
   "cell_type": "code",
   "execution_count": 2,
   "id": "07650a02-db90-4ee9-8880-e3f4ac140871",
   "metadata": {},
   "outputs": [],
   "source": [
    "# Load datataset  \n",
    "# TODO, develop function for this too\n",
    "gppfile='/glade/derecho/scratch/wwieder/ADF/b.e30_beta04.BLT1850.ne30_t232_wgx3.121/climo/b.e30_beta04.BLT1850.ne30_t232_wgx3.121_GPP_climo.nc'\n",
    "mesh0 = '/glade/campaign/cesm/cesmdata/inputdata/share/meshes/ne30pg3_ESMFmesh_cdf5_c20211018.nc'\n",
    "ds0 = ux.open_dataset(mesh0, gppfile)"
   ]
  },
  {
   "cell_type": "code",
   "execution_count": 3,
   "id": "c24b54f2-4239-4326-b8ef-583871b50aef",
   "metadata": {},
   "outputs": [],
   "source": [
    "# Set up data arrays to plot\n",
    "# TODO, this should be wrapped into appropriate plotting scripts\n",
    "spd = 3600*24 # to get bigger fluxes\n",
    "a = ds0.GPP.isel(time=0) * spd\n",
    "a.attrs = ds0.GPP.attrs\n",
    "a.attrs['units'] = 'gC/m2/d'\n",
    "b = ds0.GPP.isel(time=6) * spd\n",
    "b.attrs = a.attrs\n",
    "c = a-b\n",
    "c.attrs = a.attrs\n",
    "d = 100*c/b\n",
    "d.attrs = a.attrs\n",
    "d.attrs['units'] = '%'"
   ]
  },
  {
   "cell_type": "code",
   "execution_count": 4,
   "id": "73f75d1f-1c10-4dcd-8370-1f0c9b4b76d0",
   "metadata": {},
   "outputs": [
    {
     "data": {
      "text/plain": [
       "'/glade/derecho/scratch/wwieder/testFig'"
      ]
     },
     "execution_count": 4,
     "metadata": {},
     "output_type": "execute_result"
    }
   ],
   "source": [
    "from pathlib import Path\n",
    "wks = Path(\"/glade/derecho/scratch/wwieder/testFig\")\n",
    "str(wks)"
   ]
  },
  {
   "cell_type": "code",
   "execution_count": 8,
   "id": "55ceea85-e3e2-4e2e-a88c-03c1313acf31",
   "metadata": {},
   "outputs": [
    {
     "name": "stdout",
     "output_type": "stream",
     "text": [
      "<xarray.UxDataArray 'GPP' (n_face: 48600)> Size: 389kB\n",
      "array([       nan,        nan,        nan, ..., 1.27199839, 1.42239865,\n",
      "       2.10174724])\n",
      "Coordinates:\n",
      "    time     int64 8B 1\n",
      "Dimensions without coordinates: n_face\n",
      "Attributes:\n",
      "    long_name:      gross primary production\n",
      "    units:          gC/m2/d\n",
      "    cell_methods:   time: mean\n",
      "    landunit_mask:  unknown\n",
      "<xarray.UxDataArray (n_face: 48600)> Size: 194kB\n",
      "array([          nan,           nan,           nan, ..., 4.2150470e-05,\n",
      "       1.9083785e-05, 4.9214168e-06], dtype=float32)\n",
      "Coordinates:\n",
      "    time     int64 8B 1\n",
      "Dimensions without coordinates: n_face\n",
      "/glade/derecho/scratch/wwieder/testFig.png made\n"
     ]
    }
   ],
   "source": [
    "case_nickname = 'jan'\n",
    "base_nickname = 'july'\n",
    "case_climo_yrs, baseline_climo_yrs = [10,14],[10,14]\n",
    "mdlfld = a\n",
    "obsfld = b\n",
    "diffld = c\n",
    "pctld = d\n",
    "area = ds0.area.isel(time=0)\n",
    "landfrac = ds0.landfrac.isel(time=0)\n",
    "wgt = area * landfrac / (area * landfrac).sum()\n",
    "\n",
    "plot_unstructured_map_and_save(wks, case_nickname, base_nickname,\n",
    "                               case_climo_yrs, baseline_climo_yrs,\n",
    "                               mdlfld, obsfld, diffld, pctld, wgt,\n",
    "                               projection = 'global')\n",
    "print(str(wks) + '.png made')"
   ]
  },
  {
   "cell_type": "code",
   "execution_count": 9,
   "id": "b288e743-1371-466c-8b03-7c3096ec9697",
   "metadata": {},
   "outputs": [
    {
     "name": "stdout",
     "output_type": "stream",
     "text": [
      "/glade/derecho/scratch/wwieder/testPolarFig.png made\n"
     ]
    }
   ],
   "source": [
    "# Subset data for polar plots\n",
    "# set the bounding box\n",
    "lon_bounds = (-180, 180)\n",
    "lat_bounds = (50, 90)\n",
    "# elements include nodes, edge centers, or face centers) \n",
    "element = 'face centers'\n",
    "\n",
    "wks = Path(\"/glade/derecho/scratch/wwieder/testPolarFig\")\n",
    "case_climo_yrs, baseline_climo_yrs = [10,14],[10,14]\n",
    "mdlfld = a.subset.bounding_box(lon_bounds, lat_bounds, element=element)\n",
    "obsfld = b.subset.bounding_box(lon_bounds, lat_bounds, element=element)\n",
    "diffld = c.subset.bounding_box(lon_bounds, lat_bounds, element=element)\n",
    "pctld = d.subset.bounding_box(lon_bounds, lat_bounds, element=element)\n",
    "area = ds0.area.subset.bounding_box(lon_bounds, lat_bounds, element=element).isel(time=0)\n",
    "landfrac = ds0.landfrac.subset.bounding_box(lon_bounds, lat_bounds, element=element).isel(time=0)\n",
    "wgt = area * landfrac / (area * landfrac).sum()\n",
    "\n",
    "plot_unstructured_map_and_save(wks, case_nickname, base_nickname,\n",
    "                               case_climo_yrs, baseline_climo_yrs,\n",
    "                               mdlfld, obsfld, diffld, pctld, wgt,\n",
    "                               projection = 'polar')\n",
    "print(str(wks) + '.png made')"
   ]
  },
  {
   "cell_type": "code",
   "execution_count": null,
   "id": "ded6d0b6-1dca-4170-8a87-039f297773a2",
   "metadata": {},
   "outputs": [],
   "source": []
  }
 ],
 "metadata": {
  "kernelspec": {
   "display_name": "NPL 2024b",
   "language": "python",
   "name": "npl-2024b"
  },
  "language_info": {
   "codemirror_mode": {
    "name": "ipython",
    "version": 3
   },
   "file_extension": ".py",
   "mimetype": "text/x-python",
   "name": "python",
   "nbconvert_exporter": "python",
   "pygments_lexer": "ipython3",
   "version": "3.11.9"
  }
 },
 "nbformat": 4,
 "nbformat_minor": 5
}
