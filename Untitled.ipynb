{
 "cells": [
  {
   "cell_type": "code",
   "execution_count": 3,
   "id": "b29d0e9c-f150-4b6c-ab2f-fba31939caac",
   "metadata": {},
   "outputs": [],
   "source": [
    "levs_des = [200,850]"
   ]
  },
  {
   "cell_type": "code",
   "execution_count": null,
   "id": "691dceee-405d-4d3d-b74a-782d6ac14c27",
   "metadata": {},
   "outputs": [],
   "source": []
  },
  {
   "cell_type": "code",
   "execution_count": 4,
   "id": "1d275bc6-1a9e-4d82-b160-da1deb6f11f8",
   "metadata": {},
   "outputs": [],
   "source": [
    "import numpy as np"
   ]
  },
  {
   "cell_type": "code",
   "execution_count": 8,
   "id": "5e631351-0d9f-40a1-8c8a-4ea7738a2bac",
   "metadata": {},
   "outputs": [],
   "source": [
    "# new_levels=np.array(np.array(levs_des)*100,dtype='float32')"
   ]
  },
  {
   "cell_type": "code",
   "execution_count": 9,
   "id": "e4281f11-e391-4204-a363-2e56310bd66a",
   "metadata": {},
   "outputs": [
    {
     "data": {
      "text/plain": [
       "array([20000., 85000.], dtype=float32)"
      ]
     },
     "execution_count": 9,
     "metadata": {},
     "output_type": "execute_result"
    }
   ],
   "source": [
    "new_levels"
   ]
  },
  {
   "cell_type": "code",
   "execution_count": null,
   "id": "9ffdff5d-a1bf-441a-b04d-eec63a9bc30b",
   "metadata": {},
   "outputs": [],
   "source": []
  }
 ],
 "metadata": {
  "kernelspec": {
   "display_name": "Python (tf2)",
   "language": "python",
   "name": "tf2"
  },
  "language_info": {
   "codemirror_mode": {
    "name": "ipython",
    "version": 3
   },
   "file_extension": ".py",
   "mimetype": "text/x-python",
   "name": "python",
   "nbconvert_exporter": "python",
   "pygments_lexer": "ipython3",
   "version": "3.6.9"
  }
 },
 "nbformat": 4,
 "nbformat_minor": 5
}
